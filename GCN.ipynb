{
 "cells": [
  {
   "cell_type": "code",
   "execution_count": 1,
   "id": "531a7366",
   "metadata": {},
   "outputs": [],
   "source": [
    "\n",
    "#import library\n",
    "import os\n",
    "import numpy as np\n",
    "\n",
    "import matplotlib.pyplot as plt\n",
    "import tensorflow.compat.v1 as tf\n",
    "import scipy.io as scio \n",
    "import scipy.io as sio\n",
    "from tf_utils import random_mini_batches, convert_to_one_hot\n",
    "from tensorflow.python.framework import ops\n",
    "\n"
   ]
  },
  {
   "cell_type": "code",
   "execution_count": 2,
   "id": "27436626",
   "metadata": {},
   "outputs": [],
   "source": [
    "def sample_mask(idx, l):\n",
    "    \"\"\"Create mask.\"\"\"\n",
    "    mask = np.zeros(l)\n",
    "    mask[idx] = 1\n",
    "    return np.array(mask, dtype=np.bool)\n",
    "\n",
    "def create_placeholders(n_x, n_y):\n",
    "\n",
    "    isTraining = tf.placeholder_with_default(True, shape=())\n",
    "    x_in = tf.placeholder(tf.float32,  [None, n_x], name = \"x_in\")\n",
    "    y_in = tf.placeholder(tf.float32, [None, n_y], name = \"y_in\")\n",
    "    mask_train = tf.placeholder(tf.float32, name = \"mask_train\")\n",
    "    mask_test = tf.placeholder(tf.float32, name = \"mask_test\")\n",
    "    lap = tf.placeholder(tf.float32, [None, None], name = \"lap\")\n",
    "    \n",
    "    return x_in, y_in, lap, mask_train, mask_test, isTraining\n",
    "\n",
    "def initialize_parameters():\n",
    "   \n",
    "    tf.set_random_seed(1)\n",
    "\n",
    "    x_w1 = tf.get_variable(\"x_w1\", [200,128], initializer = tf.keras.initializers.glorot_normal(seed = 1))\n",
    "    x_b1 = tf.get_variable(\"x_b1\", [128], initializer = tf.zeros_initializer())\n",
    "     \n",
    "    x_w2 = tf.get_variable(\"x_w2\", [128,16], initializer = tf.keras.initializers.glorot_normal(seed = 1))\n",
    "    x_b2 = tf.get_variable(\"x_b2\", [16], initializer = tf.zeros_initializer())\n",
    "    \n",
    "    \n",
    "    parameters = {\"x_w1\": x_w1,\n",
    "                  \"x_b1\": x_b1,\n",
    "                  \"x_w2\": x_w2,\n",
    "                  \"x_b2\": x_b2}\n",
    "                  \n",
    "    return parameters\n",
    "\n",
    "def GCN_layer(x_in, L_, weights):\n",
    "\n",
    "    x_mid = tf.matmul(x_in, weights)\n",
    "    x_out = tf.matmul(L_, x_mid)\n",
    "    \n",
    "    return x_out\n",
    "\n",
    "def mynetwork(x, parameters, Lap, isTraining, momentums = 0.9):\n",
    "\n",
    "    with tf.name_scope(\"x_layer_1\"):\n",
    "        \n",
    "         x_z1_bn = tf.layers.batch_normalization(x, momentum = momentums, training = isTraining)          \n",
    "         x_z1 = GCN_layer(x_z1_bn, Lap, parameters['x_w1']) + parameters['x_b1']\n",
    "         x_z1_bn = tf.layers.batch_normalization(x_z1, momentum = momentums, training = isTraining)   \n",
    "         x_a1 = tf.nn.relu(x_z1_bn)     \n",
    "\n",
    "    with tf.name_scope(\"x_layer_2\"):\n",
    "         \n",
    "         x_z2_bn = tf.layers.batch_normalization(x_a1, momentum = momentums, training = isTraining)            \n",
    "         x_z2 = GCN_layer(x_z2_bn, Lap, parameters['x_w2']) + parameters['x_b2']         \n",
    "         \n",
    "    l2_loss =  tf.nn.l2_loss(parameters['x_w1']) + tf.nn.l2_loss(parameters['x_w2'])\n",
    "                \n",
    "    return x_z2, l2_loss\n",
    "\n",
    "def mynetwork_optimaization(y_est, y_re, l2_loss, mask, reg, learning_rate, global_step):\n",
    "    \n",
    "    with tf.name_scope(\"cost\"):\n",
    "         cost = (tf.nn.softmax_cross_entropy_with_logits(logits = y_est, labels = y_re)) +  reg * l2_loss\n",
    "         mask = tf.cast(mask, dtype = tf.float32)\n",
    "         mask /= tf.reduce_mean(mask)\n",
    "         cost *= mask\n",
    "         cost = tf.reduce_mean(cost) +  reg * l2_loss\n",
    "         \n",
    "    with tf.name_scope(\"optimization\"):\n",
    "         update_ops = tf.get_collection(tf.GraphKeys.UPDATE_OPS)\n",
    "    with tf.control_dependencies(update_ops):\n",
    "         optimizer = tf.train.AdamOptimizer(learning_rate = learning_rate).minimize(cost,  global_step=global_step)\n",
    "         optimizer = tf.group([optimizer, update_ops])\n",
    "         \n",
    "    return cost, optimizer\n",
    "\n",
    "def masked_accuracy(preds, labels, mask):\n",
    "\n",
    "      correct_prediction = tf.equal(tf.argmax(preds, 1), tf.argmax(labels, 1))\n",
    "      accuracy = tf.cast(correct_prediction, \"float\")\n",
    "      mask = tf.cast(mask, dtype = tf.float32)\n",
    "      mask /= tf.reduce_mean(mask)\n",
    "      accuracy *= mask\n",
    "      \n",
    "      return tf.reduce_mean(accuracy)\n",
    "\n"
   ]
  },
  {
   "cell_type": "code",
   "execution_count": 3,
   "id": "74b3ba6c",
   "metadata": {},
   "outputs": [],
   "source": [
    "def train_mynetwork(x_all, y_all, L_all, mask_in, mask_out, learning_rate = 0.001, beta_reg = 0.001, num_epochs = 200, print_cost = True):\n",
    "    tf.compat.v1.disable_eager_execution()\n",
    "    ops.reset_default_graph()                                                         \n",
    "    (m, n_x) = x_all.shape\n",
    "    (m, n_y) = y_all.shape\n",
    "    \n",
    "    costs = []                                        \n",
    "    costs_dev = []\n",
    "    train_acc = []\n",
    "    val_acc = []\n",
    "    \n",
    "    x_in, y_in, lap, mask_train, mask_test, isTraining = create_placeholders(n_x, n_y) \n",
    "\n",
    "    parameters = initialize_parameters()\n",
    "    \n",
    "    with tf.name_scope(\"network\"):\n",
    "         x_out, l2_loss = mynetwork(x_in, parameters, lap, isTraining)\n",
    "\n",
    "    global_step = tf.Variable(0, trainable=False)\n",
    "    \n",
    "    with tf.name_scope(\"optimization\"):\n",
    "         cost, optimizer = mynetwork_optimaization(x_out, y_in, l2_loss, mask_train, beta_reg, learning_rate, global_step)\n",
    "\n",
    "    with tf.name_scope(\"metrics\"):\n",
    "         accuracy_train = masked_accuracy(x_out, y_in, mask_train)\n",
    "         accuracy_test= masked_accuracy(x_out, y_in, mask_test)\n",
    "         \n",
    "    init = tf.global_variables_initializer()\n",
    "   \n",
    "    with tf.Session() as sess:\n",
    "        \n",
    "        sess.run(init)\n",
    "        # Do the training loop\n",
    "        for epoch in range(num_epochs + 1):\n",
    "\n",
    "            _, epoch_cost, epoch_acc = sess.run([optimizer, cost, accuracy_train], feed_dict={x_in: x_all, y_in: y_all, lap: L_all, mask_train: mask_in, mask_test: mask_out, isTraining: True})\n",
    "            \n",
    "            if print_cost == True and epoch % 50 == 0:\n",
    "                features, overall_cost_dev, overall_acc_dev = sess.run([x_out, cost, accuracy_test], feed_dict={x_in: x_all, y_in: y_all, lap: L_all, mask_train: mask_in, mask_test: mask_out, isTraining: False})\n",
    "                print (\"epoch %i: Train_loss: %f, Val_loss: %f, Train_acc: %f, Val_acc: %f\" % (epoch, epoch_cost, overall_cost_dev, epoch_acc, overall_acc_dev))\n",
    "            \n",
    "            if print_cost == True and epoch % 5 == 0:\n",
    "                costs.append(epoch_cost)\n",
    "                train_acc.append(epoch_acc)\n",
    "                costs_dev.append(overall_cost_dev)\n",
    "                val_acc.append(overall_acc_dev)\n",
    "      \n",
    "        # plot the cost      \n",
    "        plt.plot(np.squeeze(costs))\n",
    "        plt.plot(np.squeeze(costs_dev))\n",
    "        plt.ylabel('cost')\n",
    "        plt.xlabel('iterations (per tens)')\n",
    "        plt.title(\"Learning rate =\" + str(learning_rate))\n",
    "        plt.show()\n",
    "        # plot the accuracy \n",
    "        plt.plot(np.squeeze(train_acc))\n",
    "        plt.plot(np.squeeze(val_acc))\n",
    "        plt.ylabel('accuracy')\n",
    "        plt.xlabel('iterations (per tens)')\n",
    "        plt.title(\"Learning rate =\" + str(learning_rate))\n",
    "        plt.show()\n",
    "    \n",
    "        # lets save the parameters in a variable\n",
    "        parameters = sess.run(parameters)\n",
    "        print (\"Parameters have been trained!\")\n",
    "    \n",
    "        return parameters , val_acc, features\n",
    "\n",
    "\n"
   ]
  },
  {
   "cell_type": "code",
   "execution_count": 4,
   "id": "0492e924",
   "metadata": {},
   "outputs": [],
   "source": [
    "ALL_X = scio.loadmat('HSI_GCN_ALL/ALL_X.mat')\n",
    "ALL_Y = scio.loadmat('HSI_GCN_ALL/ALL_Y.mat')\n",
    "ALL_L = scio.loadmat('HSI_GCN_ALL/ALL_L.mat')\n",
    "\n"
   ]
  },
  {
   "cell_type": "code",
   "execution_count": 6,
   "id": "6b131cc9",
   "metadata": {},
   "outputs": [],
   "source": [
    "\n",
    "ALL_X = ALL_X['ALL_X']\n",
    "ALL_Y = ALL_Y['ALL_Y']\n",
    "ALL_L = ALL_L['ALL_L']\n"
   ]
  },
  {
   "cell_type": "code",
   "execution_count": 7,
   "id": "8235c654",
   "metadata": {},
   "outputs": [
    {
     "name": "stdout",
     "output_type": "stream",
     "text": [
      "WARNING:tensorflow:From /Users/siruiwang/miniforge3/envs/tf261/lib/python3.8/site-packages/keras/layers/normalization/batch_normalization.py:562: _colocate_with (from tensorflow.python.framework.ops) is deprecated and will be removed in a future version.\n",
      "Instructions for updating:\n",
      "Colocations handled automatically by placer.\n"
     ]
    },
    {
     "name": "stderr",
     "output_type": "stream",
     "text": [
      "/var/folders/z_/krw1gf615x7gd0lvqxvzk7ch0000gn/T/ipykernel_36741/2817546412.py:5: DeprecationWarning: `np.bool` is a deprecated alias for the builtin `bool`. To silence this warning, use `bool` by itself. Doing this will not modify any behavior and is safe. If you specifically wanted the numpy scalar type, use `np.bool_` here.\n",
      "Deprecated in NumPy 1.20; for more details and guidance: https://numpy.org/devdocs/release/1.20.0-notes.html#deprecations\n",
      "  return np.array(mask, dtype=np.bool)\n",
      "/var/folders/z_/krw1gf615x7gd0lvqxvzk7ch0000gn/T/ipykernel_36741/2817546412.py:47: UserWarning: `tf.layers.batch_normalization` is deprecated and will be removed in a future version. Please use `tf.keras.layers.BatchNormalization` instead. In particular, `tf.control_dependencies(tf.GraphKeys.UPDATE_OPS)` should not be used (consult the `tf.keras.layers.BatchNormalization` documentation).\n",
      "  x_z1_bn = tf.layers.batch_normalization(x, momentum = momentums, training = isTraining)\n",
      "/var/folders/z_/krw1gf615x7gd0lvqxvzk7ch0000gn/T/ipykernel_36741/2817546412.py:49: UserWarning: `tf.layers.batch_normalization` is deprecated and will be removed in a future version. Please use `tf.keras.layers.BatchNormalization` instead. In particular, `tf.control_dependencies(tf.GraphKeys.UPDATE_OPS)` should not be used (consult the `tf.keras.layers.BatchNormalization` documentation).\n",
      "  x_z1_bn = tf.layers.batch_normalization(x_z1, momentum = momentums, training = isTraining)\n"
     ]
    },
    {
     "name": "stdout",
     "output_type": "stream",
     "text": [
      "WARNING:tensorflow:From /Users/siruiwang/miniforge3/envs/tf261/lib/python3.8/site-packages/tensorflow/python/util/dispatch.py:1176: softmax_cross_entropy_with_logits (from tensorflow.python.ops.nn_ops) is deprecated and will be removed in a future version.\n",
      "Instructions for updating:\n",
      "\n",
      "Future major versions of TensorFlow will allow gradients to flow\n",
      "into the labels input on backprop by default.\n",
      "\n",
      "See `tf.nn.softmax_cross_entropy_with_logits_v2`.\n",
      "\n"
     ]
    },
    {
     "name": "stderr",
     "output_type": "stream",
     "text": [
      "/var/folders/z_/krw1gf615x7gd0lvqxvzk7ch0000gn/T/ipykernel_36741/2817546412.py:54: UserWarning: `tf.layers.batch_normalization` is deprecated and will be removed in a future version. Please use `tf.keras.layers.BatchNormalization` instead. In particular, `tf.control_dependencies(tf.GraphKeys.UPDATE_OPS)` should not be used (consult the `tf.keras.layers.BatchNormalization` documentation).\n",
      "  x_z2_bn = tf.layers.batch_normalization(x_a1, momentum = momentums, training = isTraining)\n",
      "2023-01-18 03:42:19.162506: I tensorflow/core/common_runtime/pluggable_device/pluggable_device_factory.cc:306] Could not identify NUMA node of platform GPU ID 0, defaulting to 0. Your kernel may not have been built with NUMA support.\n",
      "2023-01-18 03:42:19.162681: I tensorflow/core/common_runtime/pluggable_device/pluggable_device_factory.cc:272] Created TensorFlow device (/job:localhost/replica:0/task:0/device:GPU:0 with 0 MB memory) -> physical PluggableDevice (device: 0, name: METAL, pci bus id: <undefined>)\n",
      "2023-01-18 03:42:19.168088: I tensorflow/compiler/mlir/mlir_graph_optimization_pass.cc:354] MLIR V1 optimization pass is not enabled\n",
      "2023-01-18 03:42:19.182129: W tensorflow/core/platform/profile_utils/cpu_utils.cc:128] Failed to get CPU frequency: 0 Hz\n",
      "2023-01-18 03:42:19.185521: I tensorflow/core/grappler/optimizers/custom_graph_optimizer_registry.cc:114] Plugin optimizer for device_type GPU is enabled.\n"
     ]
    },
    {
     "name": "stdout",
     "output_type": "stream",
     "text": [
      "Metal device set to: Apple M1 Pro\n",
      "\n",
      "systemMemory: 16.00 GB\n",
      "maxCacheSize: 5.33 GB\n",
      "\n"
     ]
    },
    {
     "name": "stderr",
     "output_type": "stream",
     "text": [
      "2023-01-18 03:42:20.174450: I tensorflow/core/grappler/optimizers/custom_graph_optimizer_registry.cc:114] Plugin optimizer for device_type GPU is enabled.\n",
      "2023-01-18 03:42:22.218553: I tensorflow/core/grappler/optimizers/custom_graph_optimizer_registry.cc:114] Plugin optimizer for device_type GPU is enabled.\n"
     ]
    },
    {
     "name": "stdout",
     "output_type": "stream",
     "text": [
      "epoch 0: Train_loss: 6.885010, Val_loss: 3.677022, Train_acc: 0.011511, Val_acc: 0.001138\n",
      "epoch 50: Train_loss: 1.020169, Val_loss: 1.210697, Train_acc: 0.739568, Val_acc: 0.549535\n",
      "epoch 100: Train_loss: 0.710029, Val_loss: 0.742329, Train_acc: 0.835971, Val_acc: 0.681489\n",
      "epoch 150: Train_loss: 0.545442, Val_loss: 0.579314, Train_acc: 0.894964, Val_acc: 0.689659\n",
      "epoch 200: Train_loss: 0.423754, Val_loss: 0.446656, Train_acc: 0.952518, Val_acc: 0.733919\n"
     ]
    },
    {
     "data": {
      "image/png": "[encoded data removed]",
      "text/plain": [
       "<Figure size 640x480 with 1 Axes>"
      ]
     },
     "metadata": {},
     "output_type": "display_data"
    },
    {
     "data": {
      "image/png": "[encoded data removed]",
      "text/plain": [
       "<Figure size 640x480 with 1 Axes>"
      ]
     },
     "metadata": {},
     "output_type": "display_data"
    },
    {
     "name": "stdout",
     "output_type": "stream",
     "text": [
      "Parameters have been trained!\n"
     ]
    },
    {
     "name": "stderr",
     "output_type": "stream",
     "text": [
      "2023-01-18 03:43:59.471358: I tensorflow/core/grappler/optimizers/custom_graph_optimizer_registry.cc:114] Plugin optimizer for device_type GPU is enabled.\n"
     ]
    }
   ],
   "source": [
    "\n",
    "GCN_mask_TR = sample_mask(np.arange(0,695), ALL_Y.shape[0])\n",
    "GCN_mask_TE = sample_mask(np.arange(696,10366), ALL_Y.shape[0])\n",
    "\n",
    "ALL_Y = convert_to_one_hot(ALL_Y - 1, 16)\n",
    "ALL_Y = ALL_Y.T\n",
    "\n",
    "\n",
    "parameters, val_acc, features = train_mynetwork(ALL_X, ALL_Y, ALL_L.todense(), GCN_mask_TR, GCN_mask_TE)\n",
    "sio.savemat('features-GCN.mat', {'features': features})"
   ]
  }
 ],
 "metadata": {
  "kernelspec": {
   "display_name": "tf261",
   "language": "python",
   "name": "python3"
  },
  "language_info": {
   "codemirror_mode": {
    "name": "ipython",
    "version": 3
   },
   "file_extension": ".py",
   "mimetype": "text/x-python",
   "name": "python",
   "nbconvert_exporter": "python",
   "pygments_lexer": "ipython3",
   "version": "3.8.15 | packaged by conda-forge | (default, Nov 22 2022, 08:49:06) \n[Clang 14.0.6 ]"
  },
  "vscode": {
   "interpreter": {
    "hash": "acaf033a36d6730063271301a09a798aea80818c27628795dce8ca3fc7528a19"
   }
  }
 },
 "nbformat": 4,
 "nbformat_minor": 5
}
